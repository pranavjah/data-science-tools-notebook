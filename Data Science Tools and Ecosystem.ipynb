{
 "cells": [
  {
   "cell_type": "markdown",
   "id": "16bbddef-2899-49cd-b69a-4e0e65f739cb",
   "metadata": {},
   "source": [
    "# Data Science Tools and Ecosystem"
   ]
  },
  {
   "cell_type": "markdown",
   "id": "9aba4e85-167d-4807-9ec8-64a6533b98ec",
   "metadata": {},
   "source": [
    "## Introduction\n",
    "\n",
    "In this notebook, we will explore the essential tools, languages, and libraries that form the foundation of data science. Data science is an interdisciplinary field that combines statistical analysis, programming, and domain expertise to extract meaningful insights from data. This notebook serves as a comprehensive overview of the key components in the data science ecosystem."
   ]
  },
  {
   "cell_type": "markdown",
   "id": "76c7896e-b0d9-4f1c-94b9-768a82612264",
   "metadata": {},
   "source": [
    "## Data Science Languages\n",
    "\n",
    "The most popular programming languages used in data science include:\n",
    "\n",
    "- **Python** - Widely used for its simplicity and extensive libraries\n",
    "- **R** - Designed specifically for statistical analysis and data visualization\n",
    "- **SQL** - Essential for database querying and data manipulation\n",
    "- **Scala** - Used for big data processing, particularly with Apache Spark\n",
    "- **Julia** - High-performance language for numerical and scientific computing\n",
    "- **Java** - Used in enterprise environments and big data frameworks\n",
    "- **JavaScript** - For web-based data visualization and interactive dashboards\n",
    "- **MATLAB** - Popular in academic and engineering applications"
   ]
  },
  {
   "cell_type": "markdown",
   "id": "803acf8e-0ba2-4f89-9c9b-97a81fb1cb66",
   "metadata": {},
   "source": [
    "## Data Science Libraries\n",
    "\n",
    "### Python Libraries:\n",
    "- **NumPy** - Fundamental package for numerical computing\n",
    "- **Pandas** - Data manipulation and analysis\n",
    "- **Matplotlib** - Data visualization\n",
    "- **Seaborn** - Statistical data visualization\n",
    "- **Scikit-learn** - Machine learning algorithms\n",
    "- **TensorFlow** - Deep learning framework\n",
    "- **Keras** - High-level neural networks API\n",
    "- **PyTorch** - Deep learning framework\n",
    "\n",
    "### R Libraries:\n",
    "- **ggplot2** - Data visualization\n",
    "- **dplyr** - Data manipulation\n",
    "- **caret** - Classification and regression training\n",
    "- **randomForest** - Random forest algorithm\n",
    "- **stringr** - String manipulation"
   ]
  },
  {
   "cell_type": "markdown",
   "id": "e90f6c54-e847-4175-9a26-7dc21687e6aa",
   "metadata": {},
   "source": [
    "## Data Science Tools\n",
    "\n",
    "| Category | Tools |\n",
    "|----------|-------|\n",
    "| **Development Environments** | Jupyter Notebook, RStudio, Spyder, PyCharm |\n",
    "| **Data Visualization** | Tableau, Power BI, D3.js, Plotly |\n",
    "| **Big Data Processing** | Apache Spark, Hadoop, Apache Kafka |\n",
    "| **Cloud Platforms** | AWS, Google Cloud, Azure, IBM Cloud |\n",
    "| **Version Control** | Git, GitHub, GitLab |\n",
    "| **Database Management** | MySQL, PostgreSQL, MongoDB, SQLite |\n",
    "| **Model Deployment** | Docker, Kubernetes, Apache Airflow |"
   ]
  },
  {
   "cell_type": "markdown",
   "id": "a2ce0bb6-f784-497f-a49e-b98455f15ff1",
   "metadata": {},
   "source": [
    "## Arithmetic Expression Examples\n",
    "\n",
    "In this section, we will demonstrate basic arithmetic operations that are fundamental in data science calculations. These operations include addition, subtraction, multiplication, and division, which form the basis for more complex mathematical computations in data analysis."
   ]
  },
  {
   "cell_type": "code",
   "execution_count": 5,
   "id": "95ae9a34-7d44-4d9d-9401-5d8d7fb2b80e",
   "metadata": {},
   "outputs": [
    {
     "name": "stdout",
     "output_type": "stream",
     "text": [
      "(3 * 4) + 5 = 17\n"
     ]
    }
   ],
   "source": [
    "result = (3 * 4) + 5\n",
    "print(f\"(3 * 4) + 5 = {result}\")"
   ]
  },
  {
   "cell_type": "code",
   "execution_count": 8,
   "id": "a9494b53-ed49-4610-8dcb-b2cc9b5109ee",
   "metadata": {},
   "outputs": [
    {
     "name": "stdout",
     "output_type": "stream",
     "text": [
      "200 minutes is equal to 3.3333333333333335 hours\n"
     ]
    }
   ],
   "source": [
    "minutes = 200\n",
    "hours = minutes / 60\n",
    "print(f\"{minutes} minutes is equal to {hours} hours\")"
   ]
  },
  {
   "cell_type": "markdown",
   "id": "f28beed4-d02a-4a02-a7bf-176b9acd4fce",
   "metadata": {},
   "source": [
    "## Objectives\n",
    "\n",
    "The main objectives of this notebook are to:\n",
    "\n",
    "- List popular languages for Data Science\n",
    "- Identify commonly used libraries in Data Science\n",
    "- Present a table of Data Science tools organized by category\n",
    "- Demonstrate basic arithmetic operations in Python\n",
    "- Show how to perform unit conversions using Python\n",
    "- Provide a comprehensive overview of the Data Science ecosystem\n",
    "- Create a shareable resource for Data Science beginners"
   ]
  },
  {
   "cell_type": "markdown",
   "id": "795349a1-be6c-40b1-8a14-017718cda8f1",
   "metadata": {},
   "source": [
    "## Author\n",
    "\n",
    "**Pranav Jahagirdar**"
   ]
  },
  {
   "cell_type": "code",
   "execution_count": null,
   "id": "189233e4-bca6-4121-a467-9d7d275f0096",
   "metadata": {},
   "outputs": [],
   "source": []
  }
 ],
 "metadata": {
  "kernelspec": {
   "display_name": "Python 3 (ipykernel)",
   "language": "python",
   "name": "python3"
  },
  "language_info": {
   "codemirror_mode": {
    "name": "ipython",
    "version": 3
   },
   "file_extension": ".py",
   "mimetype": "text/x-python",
   "name": "python",
   "nbconvert_exporter": "python",
   "pygments_lexer": "ipython3",
   "version": "3.12.8"
  }
 },
 "nbformat": 4,
 "nbformat_minor": 5
}
